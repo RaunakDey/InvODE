{
 "cells": [
  {
   "cell_type": "markdown",
   "id": "4183032b",
   "metadata": {},
   "source": [
    "# Phage One-Step Growth Case Study"
   ]
  },
  {
   "cell_type": "markdown",
   "id": "e1408262-9229-4d96-89a1-479b1c8a68ec",
   "metadata": {},
   "source": [
    "This example uses the model developed in the paper: https://www.biorxiv.org/content/10.1101/2025.05.15.651590v1\n",
    "\n",
    "A compartmental model of ODE is used in this example, where the bacterial cells goes through different stages of infection. They are given by Susceptible (S), Exposed (E), Infected (I), and the free virus is given by (V). The model is parameterized by traits such as $r,\\phi,\\tau,\\beta$, the bacterial growth rate, adsorption rate, latent period and burst size respectively. For more information please consult the paper. Here is the differential equation.\n",
    "$$\n",
    "\\frac{dS}{dt} =  rS - \\phi SV\n",
    "$$\n",
    "$$\n",
    "\\frac{dE_1}{dt} =  \\phi SV - \\frac{N_E+1}{\\tau}E_1\n",
    "$$\n",
    "$$\n",
    "\\frac{dE_i}{dt} =  \\frac{N_E+1}{\\tau}E_{i-1} - \\frac{N_E+1}{\\tau}E_{i} \n",
    "$$\n",
    "$$\n",
    "\\frac{dE_{N_E}}{dt} =  \\frac{N_E+1}{\\tau}E_{N_E-1} - \\frac{N_E+1}{\\tau}E_{N_E} \n",
    "$$\n",
    "$$\n",
    "\\frac{dI}{dt} =  \\frac{N_E+1}{\\tau}E_{N_E} - \\frac{N_E+1}{\\tau}I\n",
    "$$\n",
    "$$\n",
    "\\frac{dV}{dt} =  \\beta\\frac{N_E+1}{\\tau}I - V\\phi (S+\\sum E_i + I)\n",
    "$$\n",
    "\n",
    "Here only $V$ is observed."
   ]
  },
  {
   "cell_type": "code",
   "execution_count": 1,
   "id": "dd9140d3-402f-4d5b-8add-a1acda269204",
   "metadata": {},
   "outputs": [],
   "source": [
    "import numpy as np\n",
    "from scipy.integrate import odeint\n",
    "import matplotlib.pyplot as plt\n",
    "import os\n",
    "import sys\n",
    "import scipy.io\n",
    "from concurrent.futures import ProcessPoolExecutor\n",
    "\n",
    "# Get path \n",
    "project_root = os.path.abspath(os.path.join(os.getcwd(), '..','..','..'))\n",
    "sys.path.insert(0, project_root)\n",
    "\n",
    "\n"
   ]
  },
  {
   "cell_type": "code",
   "execution_count": 2,
   "id": "39ed6448-8dd3-49f9-9e3d-328135210644",
   "metadata": {},
   "outputs": [
    {
     "ename": "ModuleNotFoundError",
     "evalue": "No module named 'invode'",
     "output_type": "error",
     "traceback": [
      "\u001b[0;31m---------------------------------------------------------------------------\u001b[0m",
      "\u001b[0;31mModuleNotFoundError\u001b[0m                       Traceback (most recent call last)",
      "Cell \u001b[0;32mIn[2], line 4\u001b[0m\n\u001b[1;32m      1\u001b[0m \u001b[38;5;28;01mimport\u001b[39;00m \u001b[38;5;21;01msys\u001b[39;00m\n\u001b[1;32m      2\u001b[0m sys\u001b[38;5;241m.\u001b[39mpath\u001b[38;5;241m.\u001b[39mappend(\u001b[38;5;124m'\u001b[39m\u001b[38;5;124m./..\u001b[39m\u001b[38;5;124m'\u001b[39m)  \u001b[38;5;66;03m# or absolute path if needed\u001b[39;00m\n\u001b[0;32m----> 4\u001b[0m \u001b[38;5;28;01mfrom\u001b[39;00m \u001b[38;5;21;01minvode\u001b[39;00m \u001b[38;5;28;01mimport\u001b[39;00m ODEOptimizer, lhs_sample, load_matlab_data\n",
      "\u001b[0;31mModuleNotFoundError\u001b[0m: No module named 'invode'"
     ]
    }
   ],
   "source": [
    "import sys\n",
    "sys.path.append('./..')  # or absolute path if needed\n",
    "\n",
    "from invode import ODEOptimizer, lhs_sample, load_matlab_data"
   ]
  },
  {
   "cell_type": "code",
   "execution_count": null,
   "id": "d405c647-1537-4fce-9858-6d2a19e5620e",
   "metadata": {},
   "outputs": [],
   "source": [
    "'''\n",
    "file_path = './../sample_data/HS6_13-15_2024.mat' \n",
    "free_phages = load_matlab_data(file_path)['free_phages']\n",
    "S0 = np.mean(load_matlab_data(file_path)['S0_replicates'])\n",
    "V0 = np.mean(load_matlab_data(file_path)['V0_replicates'])\n",
    "time = load_matlab_data(file_path)['time_free_phages'].flatten()/60  # Convert time to hours\n",
    "'''\n",
    "\n",
    "\n",
    "\n",
    "free_phages = np.array([[   13200,    13500,    15400],\n",
    "       [   15500,    11800,    14450],\n",
    "       [   17200,    13100,    15000],\n",
    "       [   12100,    13000,    14500],\n",
    "       [   16700,    12900,    13500],\n",
    "       [  194000,    60000,    67000],\n",
    "       [ 2860000,  1280000,  1410000],\n",
    "       [12200000, 11100000, 10100000],\n",
    "       [42000000, 27300000, 25350000],\n",
    "       [49000000, 53000000, 47000000],\n",
    "       [58500000, 50500000, 61000000],\n",
    "       [42500000, 33000000, 44000000]])\n",
    "\n",
    "time = np.array([0.        , 0.33333333, 0.66666667, 1.        , 1.16666667,\n",
    "       1.33333333, 1.5       , 1.66666667, 1.83333333, 2.        ,\n",
    "       2.33333333, 2.66666667])\n",
    "\n",
    "S0 = 128906002\n",
    "V0 = np.mean(free_phages[:,0])"
   ]
  },
  {
   "cell_type": "markdown",
   "id": "99dfcbb3",
   "metadata": {},
   "source": [
    "We can have a initial guess if we want to, but not needed. If that is a good candidate, InvODE will also consider it."
   ]
  },
  {
   "cell_type": "code",
   "execution_count": null,
   "id": "3b2b5f3e-93ef-4035-a7a9-d1ff2d37a1b0",
   "metadata": {},
   "outputs": [],
   "source": [
    "\n",
    "\n",
    "# Initial guess for parameters ===\n",
    "initial_guess = {\n",
    "    'r': 0.3,\n",
    "    'phi': 4.5e-08 ,\n",
    "    'beta':  256,\n",
    "    'tau': 2,\n",
    "    'NE': 180\n",
    "}\n",
    "\n",
    "\n",
    "# Initial conditions ===\n",
    "y0 = np.zeros((initial_guess['NE']+3,))\n",
    "y0[0] = S0\n",
    "y0[-1] = V0\n"
   ]
  },
  {
   "cell_type": "code",
   "execution_count": null,
   "id": "3bcc52ec-5ad8-4ca5-8666-1bdebb901cd1",
   "metadata": {},
   "outputs": [],
   "source": [
    "def onstep(y, t, params):\n",
    "\n",
    "    phi = params['phi']\n",
    "    beta = params['beta']\n",
    "    tau = params['tau']\n",
    "    r = params['r']\n",
    "    NE = params['NE']\n",
    "\n",
    "    S = y[0]\n",
    "    E_mat = y[1:NE+1]\n",
    "    I = y[NE+1]\n",
    "    V = y[NE+2]\n",
    "\n",
    "    etaeff = ((NE+1)/tau)\n",
    "\n",
    "    dotS = r*S - phi*V*S\n",
    "    dotE1 = phi*S*V - etaeff * E_mat[0]\n",
    "    \n",
    "    if NE > 1:\n",
    "        dotE_mat = np.zeros(NE-1)\n",
    "        dotE_mat[:] = etaeff * E_mat[0:-1] - etaeff * E_mat[1:]\n",
    "\n",
    "    dotI = etaeff * (E_mat[-1] - I)\n",
    "    dotV = beta * etaeff * I - V * phi * (S + I + np.sum(E_mat))\n",
    "\n",
    "    # Build the full derivative vector (same length as y)\n",
    "    dydt = np.zeros_like(y)\n",
    "    dydt[0] = dotS\n",
    "    dydt[1:NE+1] = dotE1 if NE == 1 else np.concatenate([[dotE1], dotE_mat])\n",
    "    dydt[NE+1] = dotI\n",
    "    dydt[NE+2] = dotV\n",
    "\n",
    "    return dydt\n",
    "\n"
   ]
  },
  {
   "cell_type": "code",
   "execution_count": null,
   "id": "6ff3bcd7-7427-437c-84a4-0fbea50e0630",
   "metadata": {},
   "outputs": [],
   "source": [
    "def simulate_model(params):\n",
    "    # Initial conditions ===\n",
    "    params['NE'] = int(params['NE'])\n",
    "    y0 = np.zeros((params['NE']+3,))\n",
    "    y0[0] = S0\n",
    "    y0[-1] = V0\n",
    "\n",
    "\n",
    "    ## dilution step\n",
    "    time_dil = np.linspace(0, 0.25, 200)  # Short time for dilution step\n",
    "    sol_dil = odeint(onstep, y0, time_dil, args=(params,))\n",
    "    y0_dil = sol_dil[-1, :]/100 # Use the last state as the new initial condition\n",
    "    ## main simulation\n",
    "    sol = odeint(onstep, y0_dil, time, args=(params,))\n",
    "    phage_solution = sol[:,-1]\n",
    "    return phage_solution \n",
    "\n"
   ]
  },
  {
   "cell_type": "code",
   "execution_count": null,
   "id": "8b850d2c-107e-4836-b6a6-064065617212",
   "metadata": {},
   "outputs": [],
   "source": [
    "def mse(model_output):\n",
    "    target = np.mean(free_phages, axis=1)\n",
    "    if len(model_output) != len(target):\n",
    "        raise ValueError(\"Length mismatch between model output and data\")\n",
    "    return np.mean((np.log10(model_output) - np.log10(target)) ** 2)\n"
   ]
  },
  {
   "cell_type": "code",
   "execution_count": null,
   "id": "b5fef71f-4585-4056-929a-f4f101febbc8",
   "metadata": {},
   "outputs": [],
   "source": [
    "#free_phages_sol = simulate_model(initial_guess)"
   ]
  },
  {
   "cell_type": "code",
   "execution_count": null,
   "id": "743b9d0b-4072-4d60-b8de-47315b51d224",
   "metadata": {},
   "outputs": [],
   "source": [
    "\n",
    "param_bounds = {\n",
    "    'r': 0.3,  # fixed\n",
    "    'phi': (1e-8, 1e-7),\n",
    "    'beta': (100, 500),\n",
    "    'tau': (1, 5),\n",
    "    'NE': (100, 200)\n",
    "}\n",
    "\n",
    "\n",
    "optimizer = ODEOptimizer(\n",
    "    ode_func=simulate_model,\n",
    "    error_func=mse,\n",
    "    param_bounds=param_bounds,\n",
    "    #initial_guess=initial_guess,\n",
    "    seed=42,\n",
    "    num_top_candidates=2,\n",
    "    n_samples=100,\n",
    "    num_iter=5,\n",
    "    verbose_plot=True,\n",
    "    verbose = True\n",
    ")\n",
    "\n"
   ]
  },
  {
   "cell_type": "code",
   "execution_count": null,
   "id": "7fdb1401-ab98-46e9-ba7c-383d88f7131f",
   "metadata": {},
   "outputs": [],
   "source": [
    "\n",
    "optimizer.fit()\n"
   ]
  },
  {
   "cell_type": "code",
   "execution_count": null,
   "id": "2d21a150-bed0-4de2-ade8-e3e15369e275",
   "metadata": {},
   "outputs": [],
   "source": [
    "best_params = optimizer.best_params\n"
   ]
  },
  {
   "cell_type": "code",
   "execution_count": null,
   "id": "2bb6e570-3a4d-410c-bcec-8c8ee8032466",
   "metadata": {},
   "outputs": [],
   "source": [
    "phages_fit = simulate_model(best_params)\n",
    "\n",
    "\n",
    "plt.figure(figsize=(10, 6))\n",
    "plt.plot(time, free_phages, label='Measured Free Phages', color='blue', marker='o', markersize=3, linestyle='none')\n",
    "#plt.plot(time, free_phages_sol, label='Initial Guess', linestyle='--', color='orange')\n",
    "plt.plot(time, phages_fit, label='Optimized Fit', color='red')\n",
    "plt.xlabel('Time (hours)')\n",
    "plt.ylabel('Free Phages')\n",
    "plt.yscale('log')\n",
    "plt.title('Free Phages Over Time')\n",
    "plt.legend()\n",
    "plt.show()"
   ]
  },
  {
   "cell_type": "code",
   "execution_count": null,
   "id": "6b355065-bfa3-4190-9048-a0c5e1e27d56",
   "metadata": {},
   "outputs": [],
   "source": [
    "optimizer.summary()"
   ]
  },
  {
   "cell_type": "code",
   "execution_count": null,
   "id": "3d7ad473-5ac1-4072-8571-db138f05a55d",
   "metadata": {},
   "outputs": [],
   "source": [
    "df = optimizer.get_top_candidates_table()\n",
    "print(df)"
   ]
  },
  {
   "cell_type": "code",
   "execution_count": null,
   "id": "9318e5f7-1b85-4a0e-ae55-7a4e621886fc",
   "metadata": {},
   "outputs": [],
   "source": []
  }
 ],
 "metadata": {
  "kernelspec": {
   "display_name": "Python 3 (ipykernel)",
   "language": "python",
   "name": "python3"
  },
  "language_info": {
   "codemirror_mode": {
    "name": "ipython",
    "version": 3
   },
   "file_extension": ".py",
   "mimetype": "text/x-python",
   "name": "python",
   "nbconvert_exporter": "python",
   "pygments_lexer": "ipython3",
   "version": "3.11.9"
  }
 },
 "nbformat": 4,
 "nbformat_minor": 5
}
