{
 "cells": [
  {
   "cell_type": "markdown",
   "id": "4183032b",
   "metadata": {},
   "source": [
    "# Phage One-Step Growth Case Study"
   ]
  },
  {
   "cell_type": "markdown",
   "id": "e1408262-9229-4d96-89a1-479b1c8a68ec",
   "metadata": {},
   "source": [
    "This example uses the model developed in the paper: https://www.biorxiv.org/content/10.1101/2025.05.15.651590v1"
   ]
  },
  {
   "cell_type": "code",
   "execution_count": 1,
   "id": "dd9140d3-402f-4d5b-8add-a1acda269204",
   "metadata": {},
   "outputs": [],
   "source": [
    "import numpy as np\n",
    "from scipy.integrate import odeint\n",
    "import matplotlib.pyplot as plt\n",
    "import os\n",
    "import sys\n",
    "import scipy.io\n",
    "from concurrent.futures import ProcessPoolExecutor\n",
    "\n",
    "# Get path \n",
    "project_root = os.path.abspath(os.path.join(os.getcwd(), '..'))\n",
    "sys.path.insert(0, project_root)\n",
    "\n",
    "\n"
   ]
  },
  {
   "cell_type": "code",
   "execution_count": 2,
   "id": "39ed6448-8dd3-49f9-9e3d-328135210644",
   "metadata": {},
   "outputs": [],
   "source": [
    "import sys\n",
    "sys.path.append('./..')  # or absolute path if needed\n",
    "\n",
    "from invode import ODEOptimizer, lhs_sample, load_matlab_data"
   ]
  },
  {
   "cell_type": "code",
   "execution_count": 3,
   "id": "d405c647-1537-4fce-9858-6d2a19e5620e",
   "metadata": {},
   "outputs": [],
   "source": [
    "'''\n",
    "file_path = './../sample_data/HS6_13-15_2024.mat' \n",
    "free_phages = load_matlab_data(file_path)['free_phages']\n",
    "S0 = np.mean(load_matlab_data(file_path)['S0_replicates'])\n",
    "V0 = np.mean(load_matlab_data(file_path)['V0_replicates'])\n",
    "time = load_matlab_data(file_path)['time_free_phages'].flatten()/60  # Convert time to hours\n",
    "'''\n",
    "\n",
    "\n",
    "\n",
    "free_phages = np.array([[   13200,    13500,    15400],\n",
    "       [   15500,    11800,    14450],\n",
    "       [   17200,    13100,    15000],\n",
    "       [   12100,    13000,    14500],\n",
    "       [   16700,    12900,    13500],\n",
    "       [  194000,    60000,    67000],\n",
    "       [ 2860000,  1280000,  1410000],\n",
    "       [12200000, 11100000, 10100000],\n",
    "       [42000000, 27300000, 25350000],\n",
    "       [49000000, 53000000, 47000000],\n",
    "       [58500000, 50500000, 61000000],\n",
    "       [42500000, 33000000, 44000000]])\n",
    "\n",
    "time = np.array([0.        , 0.33333333, 0.66666667, 1.        , 1.16666667,\n",
    "       1.33333333, 1.5       , 1.66666667, 1.83333333, 2.        ,\n",
    "       2.33333333, 2.66666667])\n",
    "\n",
    "S0 = 128906002\n",
    "V0 = np.mean(free_phages[:,0])"
   ]
  },
  {
   "cell_type": "code",
   "execution_count": 4,
   "id": "3b2b5f3e-93ef-4035-a7a9-d1ff2d37a1b0",
   "metadata": {},
   "outputs": [
    {
     "data": {
      "text/plain": [
       "\"\\n\\n# Initial guess for parameters ===\\ninitial_guess = {\\n    'r': 0.3,\\n    'phi': 4.5e-08 ,\\n    'beta':  256,\\n    'tau': 2,\\n    'NE': 180\\n}\\n\\n\\n# Initial conditions ===\\ny0 = np.zeros((initial_guess['NE']+3,))\\ny0[0] = S0\\ny0[-1] = V0\\n\""
      ]
     },
     "execution_count": 4,
     "metadata": {},
     "output_type": "execute_result"
    }
   ],
   "source": [
    "'''\n",
    "\n",
    "# Initial guess for parameters ===\n",
    "initial_guess = {\n",
    "    'r': 0.3,\n",
    "    'phi': 4.5e-08 ,\n",
    "    'beta':  256,\n",
    "    'tau': 2,\n",
    "    'NE': 180\n",
    "}\n",
    "\n",
    "\n",
    "# Initial conditions ===\n",
    "y0 = np.zeros((initial_guess['NE']+3,))\n",
    "y0[0] = S0\n",
    "y0[-1] = V0\n",
    "'''"
   ]
  },
  {
   "cell_type": "code",
   "execution_count": 5,
   "id": "3bcc52ec-5ad8-4ca5-8666-1bdebb901cd1",
   "metadata": {},
   "outputs": [],
   "source": [
    "def onstep(y, t, params):\n",
    "\n",
    "    phi = params['phi']\n",
    "    beta = params['beta']\n",
    "    tau = params['tau']\n",
    "    r = params['r']\n",
    "    NE = params['NE']\n",
    "\n",
    "    S = y[0]\n",
    "    E_mat = y[1:NE+1]\n",
    "    I = y[NE+1]\n",
    "    V = y[NE+2]\n",
    "\n",
    "    etaeff = ((NE+1)/tau)\n",
    "\n",
    "    dotS = r*S - phi*V*S\n",
    "    dotE1 = phi*S*V - etaeff * E_mat[0]\n",
    "    \n",
    "    if NE > 1:\n",
    "        dotE_mat = np.zeros(NE-1)\n",
    "        dotE_mat[:] = etaeff * E_mat[0:-1] - etaeff * E_mat[1:]\n",
    "\n",
    "    dotI = etaeff * (E_mat[-1] - I)\n",
    "    dotV = beta * etaeff * I - V * phi * (S + I + np.sum(E_mat))\n",
    "\n",
    "    # Build the full derivative vector (same length as y)\n",
    "    dydt = np.zeros_like(y)\n",
    "    dydt[0] = dotS\n",
    "    dydt[1:NE+1] = dotE1 if NE == 1 else np.concatenate([[dotE1], dotE_mat])\n",
    "    dydt[NE+1] = dotI\n",
    "    dydt[NE+2] = dotV\n",
    "\n",
    "    return dydt\n",
    "\n"
   ]
  },
  {
   "cell_type": "code",
   "execution_count": 6,
   "id": "6ff3bcd7-7427-437c-84a4-0fbea50e0630",
   "metadata": {},
   "outputs": [],
   "source": [
    "def simulate_model(params):\n",
    "    # Initial conditions ===\n",
    "    params['NE'] = int(params['NE'])\n",
    "    y0 = np.zeros((params['NE']+3,))\n",
    "    y0[0] = S0\n",
    "    y0[-1] = V0\n",
    "\n",
    "\n",
    "    ## dilution step\n",
    "    time_dil = np.linspace(0, 0.25, 200)  # Short time for dilution step\n",
    "    sol_dil = odeint(onstep, y0, time_dil, args=(params,))\n",
    "    y0_dil = sol_dil[-1, :]/100 # Use the last state as the new initial condition\n",
    "    ## main simulation\n",
    "    sol = odeint(onstep, y0_dil, time, args=(params,))\n",
    "    phage_solution = sol[:,-1]\n",
    "    return phage_solution \n",
    "\n"
   ]
  },
  {
   "cell_type": "code",
   "execution_count": 7,
   "id": "8b850d2c-107e-4836-b6a6-064065617212",
   "metadata": {},
   "outputs": [],
   "source": [
    "def mse(model_output):\n",
    "    target = np.mean(free_phages, axis=1)\n",
    "    if len(model_output) != len(target):\n",
    "        raise ValueError(\"Length mismatch between model output and data\")\n",
    "    return np.mean((np.log10(model_output) - np.log10(target)) ** 2)\n"
   ]
  },
  {
   "cell_type": "code",
   "execution_count": 8,
   "id": "b5fef71f-4585-4056-929a-f4f101febbc8",
   "metadata": {},
   "outputs": [],
   "source": [
    "#free_phages_sol = simulate_model(initial_guess)"
   ]
  },
  {
   "cell_type": "code",
   "execution_count": 9,
   "id": "743b9d0b-4072-4d60-b8de-47315b51d224",
   "metadata": {},
   "outputs": [],
   "source": [
    "\n",
    "param_bounds = {\n",
    "    'r': 0.3,  # fixed\n",
    "    'phi': (1e-8, 1e-7),\n",
    "    'beta': (100, 500),\n",
    "    'tau': (1, 5),\n",
    "    'NE': (100, 200)\n",
    "}\n",
    "\n",
    "\n",
    "optimizer = ODEOptimizer(\n",
    "    ode_func=simulate_model,\n",
    "    error_func=mse,\n",
    "    param_bounds=param_bounds,\n",
    "    #initial_guess=initial_guess,\n",
    "    seed=42,\n",
    "    num_top_candidates=2,\n",
    "    n_samples=100,\n",
    "    num_iter=5,\n",
    "    verbose_plot=True,\n",
    "    verbose = True\n",
    ")\n",
    "\n"
   ]
  },
  {
   "cell_type": "code",
   "execution_count": 10,
   "id": "7fdb1401-ab98-46e9-ba7c-383d88f7131f",
   "metadata": {},
   "outputs": [
    {
     "name": "stderr",
     "output_type": "stream",
     "text": [
      "Fitting Progress:   0%|                                                           | 0/5 [00:00<?, ?it/s]"
     ]
    },
    {
     "name": "stdout",
     "output_type": "stream",
     "text": [
      "\n",
      "Iteration 1/5\n"
     ]
    },
    {
     "name": "stderr",
     "output_type": "stream",
     "text": [
      "Fitting Progress:  20%|██████████▏                                        | 1/5 [00:00<00:03,  1.02it/s]"
     ]
    },
    {
     "name": "stdout",
     "output_type": "stream",
     "text": [
      "Best error so far: 0.1183\n",
      "Best params: {'phi': 4.266983966023513e-08, 'beta': 377.39952281604735, 'tau': 2.0208683819873485, 'NE': 157, 'r': 0.3}\n",
      "\n",
      "Iteration 2/5\n"
     ]
    },
    {
     "name": "stderr",
     "output_type": "stream",
     "text": [
      "Fitting Progress:  40%|████████████████████▍                              | 2/5 [00:03<00:06,  2.02s/it]"
     ]
    },
    {
     "name": "stdout",
     "output_type": "stream",
     "text": [
      "Best error so far: 0.0041\n",
      "Best params: {'phi': 7.00989772815266e-08, 'beta': 391.1287225045886, 'tau': 1.9741647732052143, 'NE': 163, 'r': 0.3}\n",
      "\n",
      "Iteration 3/5\n"
     ]
    },
    {
     "name": "stderr",
     "output_type": "stream",
     "text": [
      "Fitting Progress:  60%|██████████████████████████████▌                    | 3/5 [00:06<00:04,  2.47s/it]"
     ]
    },
    {
     "name": "stdout",
     "output_type": "stream",
     "text": [
      "Best error so far: 0.0041\n",
      "Best params: {'phi': 7.00989772815266e-08, 'beta': 391.1287225045886, 'tau': 1.9741647732052143, 'NE': 163, 'r': 0.3}\n",
      "\n",
      "Iteration 4/5\n"
     ]
    },
    {
     "name": "stderr",
     "output_type": "stream",
     "text": [
      "Fitting Progress:  80%|████████████████████████████████████████▊          | 4/5 [00:09<00:02,  2.64s/it]"
     ]
    },
    {
     "name": "stdout",
     "output_type": "stream",
     "text": [
      "Best error so far: 0.0041\n",
      "Best params: {'phi': 7.00989772815266e-08, 'beta': 391.1287225045886, 'tau': 1.9741647732052143, 'NE': 163, 'r': 0.3}\n",
      "\n",
      "Iteration 5/5\n"
     ]
    },
    {
     "name": "stderr",
     "output_type": "stream",
     "text": [
      "Fitting Progress: 100%|███████████████████████████████████████████████████| 5/5 [00:12<00:00,  2.48s/it]"
     ]
    },
    {
     "name": "stdout",
     "output_type": "stream",
     "text": [
      "Best error so far: 0.0041\n",
      "Best params: {'phi': 7.00989772815266e-08, 'beta': 391.1287225045886, 'tau': 1.9741647732052143, 'NE': 163, 'r': 0.3}\n",
      "Refining params: {'phi': 7.013988205829579e-08, 'beta': 348.49148227932295, 'tau': 1.9239617327028835, 'NE': 173}\n"
     ]
    },
    {
     "name": "stderr",
     "output_type": "stream",
     "text": [
      "\n"
     ]
    },
    {
     "name": "stdout",
     "output_type": "stream",
     "text": [
      "\n",
      "[Local Optimization]\n",
      "Refined parameters: {'phi': 6.823759283454945e-08, 'beta': 348.4914781187379, 'tau': 1.9422442211934774, 'NE': 173.0, 'r': 0.3}\n",
      "Refined error: 0.004188937021152051\n",
      "Refining params: {'phi': 7.158050791552344e-08, 'beta': 445.2424565642069, 'tau': 1.9461328394135549, 'NE': 154}\n",
      "\n",
      "[Local Optimization]\n",
      "Local optimization failed: ABNORMAL_TERMINATION_IN_LNSRCH\n",
      "After local refinement:\n",
      "Best params: {'phi': 6.823759283454945e-08, 'beta': 348.4914781187379, 'tau': 1.9422442211934774, 'NE': 173.0, 'r': 0.3}\n",
      "Best error: 0.0042\n"
     ]
    },
    {
     "data": {
      "image/png": "[encoded data removed]",
      "text/plain": [
       "<Figure size 600x400 with 1 Axes>"
      ]
     },
     "metadata": {},
     "output_type": "display_data"
    },
    {
     "data": {
      "text/plain": [
       "({'phi': 6.823759283454945e-08,\n",
       "  'beta': 348.4914781187379,\n",
       "  'tau': 1.9422442211934774,\n",
       "  'NE': 173.0,\n",
       "  'r': 0.3},\n",
       " 0.004188937021152051)"
      ]
     },
     "execution_count": 10,
     "metadata": {},
     "output_type": "execute_result"
    }
   ],
   "source": [
    "\n",
    "optimizer.fit()\n"
   ]
  },
  {
   "cell_type": "code",
   "execution_count": 11,
   "id": "2d21a150-bed0-4de2-ade8-e3e15369e275",
   "metadata": {},
   "outputs": [],
   "source": [
    "best_params = optimizer.best_params\n"
   ]
  },
  {
   "cell_type": "code",
   "execution_count": 12,
   "id": "2bb6e570-3a4d-410c-bcec-8c8ee8032466",
   "metadata": {},
   "outputs": [
    {
     "data": {
      "image/png": "[encoded data removed]",
      "text/plain": [
       "<Figure size 1000x600 with 1 Axes>"
      ]
     },
     "metadata": {},
     "output_type": "display_data"
    }
   ],
   "source": [
    "phages_fit = simulate_model(best_params)\n",
    "\n",
    "\n",
    "plt.figure(figsize=(10, 6))\n",
    "plt.plot(time, free_phages, label='Measured Free Phages', color='blue', marker='o', markersize=3, linestyle='none')\n",
    "#plt.plot(time, free_phages_sol, label='Initial Guess', linestyle='--', color='orange')\n",
    "plt.plot(time, phages_fit, label='Optimized Fit', color='red')\n",
    "plt.xlabel('Time (hours)')\n",
    "plt.ylabel('Free Phages')\n",
    "plt.yscale('log')\n",
    "plt.title('Free Phages Over Time')\n",
    "plt.legend()\n",
    "plt.show()"
   ]
  },
  {
   "cell_type": "code",
   "execution_count": 13,
   "id": "6b355065-bfa3-4190-9048-a0c5e1e27d56",
   "metadata": {},
   "outputs": [
    {
     "name": "stdout",
     "output_type": "stream",
     "text": [
      "🔍 ODEOptimizer Summary:\n",
      "  ode_func: simulate_model\n",
      "  error_func: mse\n",
      "  param_bounds: {'phi': (1e-08, 1e-07), 'beta': (100, 500), 'tau': (1, 5), 'NE': (100, 200)}\n",
      "  initial_guess: {'phi': 5.4999999999999996e-08, 'beta': 300.0, 'tau': 3.0, 'NE': 150.0, 'r': 0.3}\n",
      "  n_samples: 100\n",
      "  num_iter: 5\n",
      "  num_top_candidates: 2\n",
      "  do_local_opt: True\n",
      "  local_method: L-BFGS-B\n",
      "  shrink_rate: 0.5\n",
      "  parallel: False\n",
      "  local_parallel: False\n",
      "  verbose: True\n",
      "  verbose_plot: True\n",
      "  seed: 42\n",
      "  best_error: 0.004188937021152051\n",
      "  best_params: {'phi': 6.823759283454945e-08, 'beta': 348.4914781187379, 'tau': 1.9422442211934774, 'NE': 173, 'r': 0.3}\n"
     ]
    }
   ],
   "source": [
    "optimizer.summary()"
   ]
  },
  {
   "cell_type": "code",
   "execution_count": 14,
   "id": "3d7ad473-5ac1-4072-8571-db138f05a55d",
   "metadata": {},
   "outputs": [
    {
     "name": "stdout",
     "output_type": "stream",
     "text": [
      "   iteration  rank     error           phi        beta       tau   NE    r\n",
      "0          1     1  0.118342  4.266984e-08  377.399523  2.020868  157  0.3\n",
      "1          1     2  0.131130  4.917636e-08  334.668375  2.045617  168  0.3\n",
      "2          2     1  0.004130  7.009898e-08  391.128723  1.974165  163  0.3\n",
      "3          2     2  0.006739  6.835375e-08  294.076868  1.907686  190  0.3\n",
      "4          3     1  0.005034  7.649504e-08  442.555402  1.990015  153  0.3\n",
      "5          3     2  0.014846  8.143537e-08  292.647566  1.947413  182  0.3\n",
      "6          4     1  0.016187  6.538001e-08  242.538774  1.912211  168  0.3\n",
      "7          4     2  0.020552  8.440974e-08  361.452366  1.934187  158  0.3\n",
      "8          5     1  0.005695  7.013988e-08  348.491482  1.923962  173  0.3\n",
      "9          5     2  0.014288  7.158051e-08  445.242457  1.946133  154  0.3\n"
     ]
    }
   ],
   "source": [
    "df = optimizer.get_top_candidates_table()\n",
    "print(df)"
   ]
  },
  {
   "cell_type": "code",
   "execution_count": null,
   "id": "9318e5f7-1b85-4a0e-ae55-7a4e621886fc",
   "metadata": {},
   "outputs": [],
   "source": []
  }
 ],
 "metadata": {
  "kernelspec": {
   "display_name": "Python 3 (ipykernel)",
   "language": "python",
   "name": "python3"
  },
  "language_info": {
   "codemirror_mode": {
    "name": "ipython",
    "version": 3
   },
   "file_extension": ".py",
   "mimetype": "text/x-python",
   "name": "python",
   "nbconvert_exporter": "python",
   "pygments_lexer": "ipython3",
   "version": "3.11.9"
  }
 },
 "nbformat": 4,
 "nbformat_minor": 5
}
