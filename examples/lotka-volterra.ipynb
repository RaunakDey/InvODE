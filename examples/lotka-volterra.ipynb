{
 "cells": [
  {
   "cell_type": "code",
   "execution_count": 1,
   "metadata": {},
   "outputs": [],
   "source": [
    "import numpy as np\n",
    "from scipy.integrate import odeint\n",
    "import matplotlib.pyplot as plt\n",
    "import os\n",
    "import sys\n",
    "import scipy.io"
   ]
  },
  {
   "cell_type": "code",
   "execution_count": 2,
   "metadata": {},
   "outputs": [],
   "source": [
    "# Get path to MCMCwithODEs_primer (3 levels up)\n",
    "project_root = os.path.abspath(os.path.join(os.getcwd(), '..'))\n",
    "sys.path.insert(0, project_root)\n"
   ]
  },
  {
   "cell_type": "code",
   "execution_count": 3,
   "metadata": {},
   "outputs": [],
   "source": [
    "def lotka_volterra(z, t, params):\n",
    "    x, y = z\n",
    "    alpha = params['alpha']\n",
    "    beta = params['beta']\n",
    "    delta = params['delta']\n",
    "    gamma = params['gamma']\n",
    "    \n",
    "    dxdt = alpha * x - beta * x * y\n",
    "    dydt = delta * x * y - gamma * y\n",
    "    return [dxdt, dydt]\n",
    "\n"
   ]
  },
  {
   "cell_type": "code",
   "execution_count": 4,
   "metadata": {},
   "outputs": [],
   "source": [
    "true_params = {\n",
    "    'alpha': 1.0,    # prey growth rate\n",
    "    'beta': 0.1,     # predation rate\n",
    "    'delta': 0.075,  # predator growth per prey eaten\n",
    "    'gamma': 1.5     # predator death rate\n",
    "}\n",
    "\n",
    "t = np.linspace(0, 20, 200)\n",
    "z0 = [40, 9]  # initial population: 40 prey, 9 predators\n"
   ]
  },
  {
   "cell_type": "code",
   "execution_count": 5,
   "metadata": {},
   "outputs": [],
   "source": [
    "true_sol = odeint(lotka_volterra, z0, t, args=(true_params,))\n",
    "noisy_data = true_sol + np.random.normal(0, 1.0, true_sol.shape)\n"
   ]
  },
  {
   "cell_type": "code",
   "execution_count": 6,
   "metadata": {},
   "outputs": [],
   "source": [
    "def simulate_model(params):\n",
    "    sol = odeint(lotka_volterra, z0, t, args=(params,))\n",
    "    return sol  # shape: (N, 2)\n",
    "\n",
    "def mse(output):\n",
    "    return np.mean((output - noisy_data)**2)"
   ]
  },
  {
   "cell_type": "code",
   "execution_count": 7,
   "metadata": {},
   "outputs": [],
   "source": [
    "param_bounds = {\n",
    "    'alpha': (0.5, 10),\n",
    "    'beta': (0.05, 0.9),\n",
    "    'delta': (0.05, 0.9),\n",
    "    'gamma': (1.0, 5.0)\n",
    "}\n",
    "\n",
    "initial_guess = {\n",
    "    'alpha': 5,\n",
    "    'beta': 0.5,\n",
    "    'delta': 0.7,\n",
    "    'gamma': 4.0\n",
    "}"
   ]
  },
  {
   "cell_type": "code",
   "execution_count": 8,
   "metadata": {},
   "outputs": [],
   "source": [
    "import sys\n",
    "sys.path.append('./..')  # or absolute path if needed\n",
    "\n",
    "from invode import ODEOptimizer, lhs_sample"
   ]
  },
  {
   "cell_type": "code",
   "execution_count": 9,
   "metadata": {},
   "outputs": [],
   "source": [
    "# Run optimizer\n",
    "optimizer = ODEOptimizer(\n",
    "    ode_func=simulate_model,\n",
    "    error_func=mse,\n",
    "    param_bounds=param_bounds,\n",
    "    initial_guess=initial_guess,\n",
    "    seed=42,\n",
    "    num_top_candidates=3\n",
    ")\n",
    "\n",
    "\n",
    "\n"
   ]
  },
  {
   "cell_type": "code",
   "execution_count": 10,
   "metadata": {},
   "outputs": [
    {
     "name": "stderr",
     "output_type": "stream",
     "text": [
      "/var/folders/5k/c26bnjc5605gl0j8tyx59s240000gp/T/ipykernel_52064/1989443935.py:2: ODEintWarning: Excess work done on this call (perhaps wrong Dfun type). Run with full_output = 1 to get quantitative information.\n",
      "  sol = odeint(lotka_volterra, z0, t, args=(params,))\n"
     ]
    },
    {
     "data": {
      "text/plain": [
       "({'alpha': 0.9942779041092709,\n",
       "  'beta': 0.09869028858084401,\n",
       "  'delta': 0.07534068781450981,\n",
       "  'gamma': 1.5090006298607215},\n",
       " 0.9288766366017623)"
      ]
     },
     "execution_count": 10,
     "metadata": {},
     "output_type": "execute_result"
    }
   ],
   "source": [
    "\n",
    "optimizer.fit()\n"
   ]
  },
  {
   "cell_type": "code",
   "execution_count": 11,
   "metadata": {},
   "outputs": [
    {
     "name": "stdout",
     "output_type": "stream",
     "text": [
      "🔍 ODEOptimizer Summary:\n",
      "  ode_func: simulate_model\n",
      "  error_func: mse\n",
      "  param_bounds: {'alpha': (0.5, 10), 'beta': (0.05, 0.9), 'delta': (0.05, 0.9), 'gamma': (1.0, 5.0)}\n",
      "  initial_guess: {'alpha': 5, 'beta': 0.5, 'delta': 0.7, 'gamma': 4.0}\n",
      "  n_samples: 100\n",
      "  num_iter: 10\n",
      "  num_top_candidates: 3\n",
      "  do_local_opt: True\n",
      "  local_method: L-BFGS-B\n",
      "  shrink_rate: 0.5\n",
      "  parallel: False\n",
      "  local_parallel: False\n",
      "  verbose: False\n",
      "  verbose_plot: False\n",
      "  seed: 42\n",
      "  best_error: 0.9288766366017623\n",
      "  best_params: {'alpha': 0.9942779041092709, 'beta': 0.09869028858084401, 'delta': 0.07534068781450981, 'gamma': 1.5090006298607215}\n"
     ]
    }
   ],
   "source": [
    "optimizer.summary()"
   ]
  },
  {
   "cell_type": "code",
   "execution_count": 17,
   "metadata": {},
   "outputs": [
    {
     "data": {
      "image/png": "[encoded data removed]",
      "text/plain": [
       "<Figure size 600x400 with 1 Axes>"
      ]
     },
     "metadata": {},
     "output_type": "display_data"
    }
   ],
   "source": [
    "optimizer.plot_error_history()"
   ]
  },
  {
   "cell_type": "code",
   "execution_count": 13,
   "metadata": {},
   "outputs": [
    {
     "data": {
      "text/plain": [
       "{'alpha': 0.9942779041092709,\n",
       " 'beta': 0.09869028858084401,\n",
       " 'delta': 0.07534068781450981,\n",
       " 'gamma': 1.5090006298607215}"
      ]
     },
     "execution_count": 13,
     "metadata": {},
     "output_type": "execute_result"
    }
   ],
   "source": [
    "optimizer.best_params"
   ]
  },
  {
   "cell_type": "code",
   "execution_count": 14,
   "metadata": {},
   "outputs": [
    {
     "data": {
      "text/plain": [
       "0.9288766366017623"
      ]
     },
     "execution_count": 14,
     "metadata": {},
     "output_type": "execute_result"
    }
   ],
   "source": [
    "optimizer.best_error"
   ]
  },
  {
   "cell_type": "code",
   "execution_count": 15,
   "metadata": {},
   "outputs": [
    {
     "name": "stdout",
     "output_type": "stream",
     "text": [
      "Iteration 1: Best error = 257.1357\n",
      "Iteration 2: Best error = 166.2408\n",
      "Iteration 3: Best error = 132.3761\n",
      "Iteration 4: Best error = 113.3658\n",
      "Iteration 5: Best error = 119.7756\n",
      "Iteration 6: Best error = 141.6606\n",
      "Iteration 7: Best error = 147.6182\n",
      "Iteration 8: Best error = 125.0690\n",
      "Iteration 9: Best error = 130.6449\n",
      "Iteration 10: Best error = 139.2184\n"
     ]
    }
   ],
   "source": [
    "history = optimizer.get_top_candidates_history()\n",
    "\n",
    "# Example: print best candidate from each iteration\n",
    "for i, candidates in enumerate(history):\n",
    "    print(f\"Iteration {i+1}: Best error = {candidates[0][1]:.4f}\")"
   ]
  },
  {
   "cell_type": "code",
   "execution_count": 16,
   "metadata": {},
   "outputs": [
    {
     "name": "stdout",
     "output_type": "stream",
     "text": [
      "    iteration  rank       error     alpha      beta     delta     gamma\n",
      "0           1     1  257.135730  4.385283  0.573670  0.496909  4.750834\n",
      "1           1     2  259.117359  3.146908  0.546651  0.563712  3.948248\n",
      "2           1     3  263.795732  3.698483  0.664474  0.491804  4.296262\n",
      "3           2     1  166.240819  1.037087  0.756400  0.381194  4.186847\n",
      "4           2     2  183.456498  1.637559  0.508513  0.573632  3.451435\n",
      "5           2     3  187.710111  3.421203  0.458104  0.291025  4.314317\n",
      "6           3     1  132.376051  1.088866  0.657251  0.297442  3.470319\n",
      "7           3     2  148.167524  0.840392  0.603924  0.284036  4.434190\n",
      "8           3     3  150.488699  3.570604  0.447930  0.167069  4.082852\n",
      "9           4     1  113.365783  0.716937  0.502098  0.284090  4.804790\n",
      "10          4     2  138.915752  0.909915  0.812395  0.304488  4.447642\n",
      "11          4     3  140.764985  1.201605  0.672126  0.279445  2.987001\n",
      "12          5     1  119.775565  0.815650  0.651318  0.309828  4.696234\n",
      "13          5     2  120.856419  0.791856  0.647780  0.298676  4.698930\n",
      "14          5     3  129.033146  0.958246  0.661667  0.304899  4.038577\n",
      "15          6     1  141.660570  0.851988  0.681043  0.213735  3.713071\n",
      "16          6     2  142.679331  0.672067  0.591339  0.230852  4.973684\n",
      "17          6     3  146.882989  1.139109  0.795988  0.391224  4.128366\n",
      "18          7     1  147.618203  0.777580  0.606126  0.159296  3.597536\n",
      "19          7     2  148.862674  0.773577  0.736809  0.231185  4.680552\n",
      "20          7     3  161.614941  2.687618  0.414844  0.238670  4.800910\n",
      "21          8     1  125.068966  0.995312  0.458386  0.350790  3.817924\n",
      "22          8     2  133.080232  0.990060  0.697747  0.215871  3.359236\n",
      "23          8     3  135.368793  0.896974  0.812276  0.262427  4.314396\n",
      "24          9     1  130.644917  0.935929  0.698698  0.290830  3.992311\n",
      "25          9     2  134.420420  1.012033  0.781013  0.306685  4.019945\n",
      "26          9     3  141.706126  1.144180  0.476512  0.393720  3.667487\n",
      "27         10     1  139.218445  1.129027  0.741752  0.302373  3.458112\n",
      "28         10     2  157.796134  1.448640  0.738305  0.351231  2.998252\n",
      "29         10     3  158.813874  3.228316  0.487801  0.198554  3.963848\n"
     ]
    }
   ],
   "source": [
    "df = optimizer.get_top_candidates_table()\n",
    "print(df)"
   ]
  },
  {
   "cell_type": "code",
   "execution_count": null,
   "metadata": {},
   "outputs": [],
   "source": []
  }
 ],
 "metadata": {
  "kernelspec": {
   "display_name": "Python 3 (ipykernel)",
   "language": "python",
   "name": "python3"
  },
  "language_info": {
   "codemirror_mode": {
    "name": "ipython",
    "version": 3
   },
   "file_extension": ".py",
   "mimetype": "text/x-python",
   "name": "python",
   "nbconvert_exporter": "python",
   "pygments_lexer": "ipython3",
   "version": "3.11.9"
  }
 },
 "nbformat": 4,
 "nbformat_minor": 4
}
