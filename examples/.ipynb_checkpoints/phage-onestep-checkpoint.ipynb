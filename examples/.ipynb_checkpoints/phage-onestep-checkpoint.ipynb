{
 "cells": [
  {
   "cell_type": "code",
   "execution_count": 1,
   "id": "dd9140d3-402f-4d5b-8add-a1acda269204",
   "metadata": {},
   "outputs": [],
   "source": [
    "import numpy as np\n",
    "from scipy.integrate import odeint\n",
    "import matplotlib.pyplot as plt\n",
    "import os\n",
    "import sys\n",
    "import scipy.io\n",
    "from concurrent.futures import ProcessPoolExecutor\n",
    "\n",
    "# Get path \n",
    "# Get path to MCMCwithODEs_primer (3 levels up)\n",
    "project_root = os.path.abspath(os.path.join(os.getcwd(), '..'))\n",
    "sys.path.insert(0, project_root)\n",
    "\n",
    "\n"
   ]
  },
  {
   "cell_type": "code",
   "execution_count": 4,
   "id": "39ed6448-8dd3-49f9-9e3d-328135210644",
   "metadata": {},
   "outputs": [],
   "source": [
    "import sys\n",
    "sys.path.append('./..')  # or absolute path if needed\n",
    "\n",
    "from invode import ODEOptimizer, lhs_sample, load_matlab_data"
   ]
  },
  {
   "cell_type": "code",
   "execution_count": 6,
   "id": "d405c647-1537-4fce-9858-6d2a19e5620e",
   "metadata": {},
   "outputs": [],
   "source": [
    "file_path = './../sample_data/HS6_13-15_2024.mat' \n",
    "free_phages = load_matlab_data(file_path)['free_phages']\n",
    "S0 = np.mean(load_matlab_data(file_path)['S0_replicates'])\n",
    "V0 = np.mean(load_matlab_data(file_path)['V0_replicates'])\n",
    "time = load_matlab_data(file_path)['time_free_phages'].flatten()/60  # Convert time to hours\n",
    "\n",
    "# Initial guess for parameters ===\n",
    "initial_guess = {\n",
    "    'r': 0.25,\n",
    "    'phi': 4.5e-08 ,\n",
    "    'beta':  256,\n",
    "    'tau': 2,\n",
    "    'NE': 180\n",
    "}\n",
    "\n",
    "\n",
    "# Initial conditions ===\n",
    "y0 = np.zeros((initial_guess['NE']+3,))\n",
    "y0[0] = S0\n",
    "y0[-1] = V0\n",
    "\n"
   ]
  },
  {
   "cell_type": "code",
   "execution_count": 7,
   "id": "3bcc52ec-5ad8-4ca5-8666-1bdebb901cd1",
   "metadata": {},
   "outputs": [],
   "source": [
    "def onstep(y, t, params):\n",
    "\n",
    "    phi = params['phi']\n",
    "    beta = params['beta']\n",
    "    tau = params['tau']\n",
    "    r = params['r']\n",
    "    NE = params['NE']\n",
    "\n",
    "    S = y[0]\n",
    "    E_mat = y[1:NE+1]\n",
    "    I = y[NE+1]\n",
    "    V = y[NE+2]\n",
    "\n",
    "    etaeff = ((NE+1)/tau)\n",
    "\n",
    "    dotS = r*S - phi*V*S\n",
    "    dotE1 = phi*S*V - etaeff * E_mat[0]\n",
    "    \n",
    "    if NE > 1:\n",
    "        dotE_mat = np.zeros(NE-1)\n",
    "        dotE_mat[:] = etaeff * E_mat[0:-1] - etaeff * E_mat[1:]\n",
    "\n",
    "    dotI = etaeff * (E_mat[-1] - I)\n",
    "    dotV = beta * etaeff * I - V * phi * (S + I + np.sum(E_mat))\n",
    "\n",
    "    # Build the full derivative vector (same length as y)\n",
    "    dydt = np.zeros_like(y)\n",
    "    dydt[0] = dotS\n",
    "    dydt[1:NE+1] = dotE1 if NE == 1 else np.concatenate([[dotE1], dotE_mat])\n",
    "    dydt[NE+1] = dotI\n",
    "    dydt[NE+2] = dotV\n",
    "\n",
    "    return dydt\n",
    "\n"
   ]
  },
  {
   "cell_type": "code",
   "execution_count": 8,
   "id": "6ff3bcd7-7427-437c-84a4-0fbea50e0630",
   "metadata": {},
   "outputs": [],
   "source": [
    "def simulate_model(params):\n",
    "    # Initial conditions ===\n",
    "    params['NE'] = int(params['NE'])\n",
    "    y0 = np.zeros((params['NE']+3,))\n",
    "    y0[0] = S0\n",
    "    y0[-1] = V0\n",
    "\n",
    "\n",
    "    ## dilution step\n",
    "    time_dil = np.linspace(0, 0.25, 200)  # Short time for dilution step\n",
    "    sol_dil = odeint(onstep, y0, time_dil, args=(params,))\n",
    "    y0_dil = sol_dil[-1, :]/100 # Use the last state as the new initial condition\n",
    "    ## main simulation\n",
    "    sol = odeint(onstep, y0_dil, time, args=(params,))\n",
    "    phage_solution = sol[:,-1]\n",
    "    return phage_solution \n",
    "\n"
   ]
  },
  {
   "cell_type": "code",
   "execution_count": 9,
   "id": "8b850d2c-107e-4836-b6a6-064065617212",
   "metadata": {},
   "outputs": [],
   "source": [
    "def mse(model_output):\n",
    "    target = np.mean(free_phages, axis=1)\n",
    "    if len(model_output) != len(target):\n",
    "        raise ValueError(\"Length mismatch between model output and data\")\n",
    "    return np.mean((np.log10(model_output) - np.log10(target)) ** 2)\n"
   ]
  },
  {
   "cell_type": "code",
   "execution_count": 10,
   "id": "b5fef71f-4585-4056-929a-f4f101febbc8",
   "metadata": {},
   "outputs": [],
   "source": [
    "free_phages_sol = simulate_model(initial_guess)"
   ]
  },
  {
   "cell_type": "code",
   "execution_count": 14,
   "id": "743b9d0b-4072-4d60-b8de-47315b51d224",
   "metadata": {},
   "outputs": [],
   "source": [
    "param_bounds={\n",
    "            'r': (0.1, 0.5),\n",
    "            'phi': (1e-8, 1e-7),\n",
    "            'beta': (100, 500),\n",
    "            'tau': (1, 5),\n",
    "            'NE': (100, 200)\n",
    "        }\n",
    "\n",
    "\n",
    "optimizer = ODEOptimizer(\n",
    "    ode_func=simulate_model,\n",
    "    error_func=mse,\n",
    "    param_bounds=param_bounds,\n",
    "    initial_guess=initial_guess,\n",
    "    seed=42,\n",
    "    num_top_candidates=2,\n",
    "    n_samples=300,\n",
    "    num_iter=10\n",
    ")\n",
    "\n"
   ]
  },
  {
   "cell_type": "code",
   "execution_count": 15,
   "id": "7fdb1401-ab98-46e9-ba7c-383d88f7131f",
   "metadata": {},
   "outputs": [
    {
     "data": {
      "text/plain": [
       "({'r': 0.41342068901106066,\n",
       "  'phi': 6.733997357832918e-08,\n",
       "  'beta': 412.530995387369,\n",
       "  'tau': 1.9816198718607785,\n",
       "  'NE': 151.0},\n",
       " 0.0025495983615502387)"
      ]
     },
     "execution_count": 15,
     "metadata": {},
     "output_type": "execute_result"
    }
   ],
   "source": [
    "\n",
    "optimizer.fit()\n"
   ]
  },
  {
   "cell_type": "code",
   "execution_count": null,
   "id": "2d21a150-bed0-4de2-ade8-e3e15369e275",
   "metadata": {},
   "outputs": [],
   "source": []
  }
 ],
 "metadata": {
  "kernelspec": {
   "display_name": "Python 3 (ipykernel)",
   "language": "python",
   "name": "python3"
  },
  "language_info": {
   "codemirror_mode": {
    "name": "ipython",
    "version": 3
   },
   "file_extension": ".py",
   "mimetype": "text/x-python",
   "name": "python",
   "nbconvert_exporter": "python",
   "pygments_lexer": "ipython3",
   "version": "3.11.9"
  }
 },
 "nbformat": 4,
 "nbformat_minor": 5
}
