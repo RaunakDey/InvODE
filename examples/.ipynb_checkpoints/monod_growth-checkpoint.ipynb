{
 "cells": [
  {
   "cell_type": "markdown",
   "id": "3cc34218-1c1a-4804-bd8c-3be068005e90",
   "metadata": {},
   "source": [
    "This example is from P. M. Berthouex and L. C. Brown: Statistics for Environmental Engineers, CRC Press, 2002. Also described in https://mjlaine.github.io/mcmcstat/ex/monodex.html"
   ]
  },
  {
   "cell_type": "code",
   "execution_count": 2,
   "id": "95ae5195-02df-4bb8-ab47-278025495e7e",
   "metadata": {},
   "outputs": [],
   "source": [
    "x = [28,    55,    83,    110,   138,   225,   375]  # (mg / L COD)\n",
    "y = [0.053, 0.060, 0.112, 0.105, 0.099, 0.122, 0.125] # (1 / h)\n"
   ]
  },
  {
   "cell_type": "markdown",
   "id": "6539d135-0717-4087-8479-6dce4365d7f6",
   "metadata": {},
   "source": [
    "We want to fit the Monod model, given by,\n",
    "$$ y = \\frac{\\theta_1 t}{(\\theta_2+t)}$$"
   ]
  },
  {
   "cell_type": "markdown",
   "id": "46310b7a-357d-4048-9dab-972dc90154da",
   "metadata": {},
   "source": [
    "Though this is not an example with ODE, still the **InvODE** can fit the dataset."
   ]
  },
  {
   "cell_type": "code",
   "execution_count": 3,
   "id": "e1b06d4c-57e9-4ca6-acf2-fc88598a8c3b",
   "metadata": {},
   "outputs": [],
   "source": [
    "import numpy as np\n",
    "from scipy.integrate import odeint\n",
    "import matplotlib.pyplot as plt\n",
    "import os\n",
    "import sys\n",
    "import scipy.io\n",
    "from concurrent.futures import ProcessPoolExecutor\n",
    "\n",
    "# Get path \n",
    "# Get path to MCMCwithODEs_primer (3 levels up)\n",
    "project_root = os.path.abspath(os.path.join(os.getcwd(), '..'))\n",
    "sys.path.insert(0, project_root)\n"
   ]
  },
  {
   "cell_type": "code",
   "execution_count": 4,
   "id": "8bc807ad-d0d8-4a1a-9d97-e588df394b01",
   "metadata": {},
   "outputs": [],
   "source": [
    "import sys\n",
    "sys.path.append('./..')  # or absolute path if needed\n",
    "\n",
    "from invode import ODEOptimizer, lhs_sample"
   ]
  },
  {
   "cell_type": "code",
   "execution_count": 7,
   "id": "51c122b6-9121-4540-8c45-869535e2269f",
   "metadata": {},
   "outputs": [
    {
     "ename": "NameError",
     "evalue": "name 'xlabel' is not defined",
     "output_type": "error",
     "traceback": [
      "\u001b[0;31m---------------------------------------------------------------------------\u001b[0m",
      "\u001b[0;31mNameError\u001b[0m                                 Traceback (most recent call last)",
      "Cell \u001b[0;32mIn[7], line 2\u001b[0m\n\u001b[1;32m      1\u001b[0m plt\u001b[38;5;241m.\u001b[39mplot(x,y,\u001b[38;5;124m'\u001b[39m\u001b[38;5;124mo\u001b[39m\u001b[38;5;124m'\u001b[39m)\n\u001b[0;32m----> 2\u001b[0m \u001b[43mxlabel\u001b[49m(\u001b[38;5;124m'\u001b[39m\u001b[38;5;124mmg/L COD\u001b[39m\u001b[38;5;124m'\u001b[39m)\n\u001b[1;32m      3\u001b[0m ylabel(\u001b[38;5;124m'\u001b[39m\u001b[38;5;124m1/hr\u001b[39m\u001b[38;5;124m'\u001b[39m)\n",
      "\u001b[0;31mNameError\u001b[0m: name 'xlabel' is not defined"
     ]
    },
    {
     "data": {
      "image/png": "[encoded data removed]",
      "text/plain": [
       "<Figure size 640x480 with 1 Axes>"
      ]
     },
     "metadata": {},
     "output_type": "display_data"
    }
   ],
   "source": [
    "plt.plot(x,y,'o')\n",
    "plt.xlabel('mg/L COD')\n",
    "plt.ylabel('1/hr')"
   ]
  },
  {
   "cell_type": "code",
   "execution_count": null,
   "id": "5a8d1060-8149-4a6e-80b3-2986e626a42e",
   "metadata": {},
   "outputs": [],
   "source": []
  }
 ],
 "metadata": {
  "kernelspec": {
   "display_name": "Python 3 (ipykernel)",
   "language": "python",
   "name": "python3"
  },
  "language_info": {
   "codemirror_mode": {
    "name": "ipython",
    "version": 3
   },
   "file_extension": ".py",
   "mimetype": "text/x-python",
   "name": "python",
   "nbconvert_exporter": "python",
   "pygments_lexer": "ipython3",
   "version": "3.11.9"
  }
 },
 "nbformat": 4,
 "nbformat_minor": 5
}
